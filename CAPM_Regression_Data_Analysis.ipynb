{
 "cells": [
  {
   "cell_type": "code",
   "execution_count": 35,
   "metadata": {
    "ExecuteTime": {
     "end_time": "2018-12-02T00:08:13.646070Z",
     "start_time": "2018-12-02T00:08:13.641431Z"
    }
   },
   "outputs": [],
   "source": [
    "import seaborn as sns\n",
    "sns.set_style('whitegrid')"
   ]
  },
  {
   "cell_type": "code",
   "execution_count": 1,
   "metadata": {
    "ExecuteTime": {
     "end_time": "2018-12-01T22:40:53.524841Z",
     "start_time": "2018-12-01T22:40:53.511855Z"
    }
   },
   "outputs": [
    {
     "data": {
      "text/plain": [
       "'This Program Uses Stock Data and Regression Methods to Verify CAPM Model'"
      ]
     },
     "execution_count": 1,
     "metadata": {},
     "output_type": "execute_result"
    }
   ],
   "source": [
    "\"\"\"This Program Uses Stock Data and Regression Methods to Verify CAPM Model\"\"\""
   ]
  },
  {
   "cell_type": "code",
   "execution_count": 2,
   "metadata": {
    "ExecuteTime": {
     "end_time": "2018-12-01T22:40:58.832781Z",
     "start_time": "2018-12-01T22:40:53.529455Z"
    }
   },
   "outputs": [],
   "source": [
    "import pandas as pd\n",
    "import numpy as np\n",
    "\n",
    "\n",
    "def data_analysis():\n",
    "    stock_symbols = {\n",
    "        'MMM', 'AXP', 'AAPL', 'BA', 'CAT', 'CVX', 'CSCO', 'KO', 'DWDP', 'XOM',\n",
    "        'GS', 'HD', 'IBM', 'INTC', 'JNJ', 'JPM', 'MCD', 'MRK', 'MSFT', 'NKE',\n",
    "        'PFE', 'PG', 'TRV', 'UNH', 'UTX', 'VZ', 'V', 'WMT', 'WBA', 'DIS'\n",
    "    }  # Dow Jones 30 stocks\n",
    "    data = pd.read_csv('Clean_Data_Out.csv')\n",
    "\n",
    "    data = data.loc[data['Name'].isin(stock_symbols)]\n",
    "\n",
    "    # Convert Date column from string to datetime\n",
    "    data['date'] = pd.to_datetime(data['date'], format='%Y-%m-%d')\n",
    "\n",
    "    # Add column for daily returns\n",
    "    data['daily_return'] = np.log(data['close'] / data['open'])\n",
    "\n",
    "    treasury_data = pd.read_csv('Treasury Bill Yield Curve.csv')\n",
    "\n",
    "    # T-bill not available for certain dates (dates are not consecutive).\n",
    "    # Use linear interpolation to proxy for the t-bill rate for that date.\n",
    "    for i, row in treasury_data.iterrows():\n",
    "        if row['10 Yr T bill'] == 'NA':\n",
    "            # Assuming that isnull does not occur when i == 0 and when i == len(treasury_data) - 1\n",
    "            treasury_data['10 Yr T bill'][\n",
    "                i] = 0.5 * (treasury_data['10 Yr T bill'][i - 1] +\n",
    "                            treasury_data['10 Yr T bill'][i + 1])\n",
    "\n",
    "    # Convert Date column from string to datetime\n",
    "    treasury_data['Date'] = pd.to_datetime(\n",
    "        treasury_data['Date'], format='%m/%d/%Y')\n",
    "\n",
    "    # Reformat 10 Yr T bill return into decimals (original data was in %)\n",
    "    treasury_data['10 Yr T bill returns'] = treasury_data['10 Yr T bill'] / 100\n",
    "\n",
    "    # Calculate SP 500 returns\n",
    "    treasury_data[\n",
    "        'SP 500 Returns'] = treasury_data['SP 500 '] / treasury_data['SP 500 '].shift(\n",
    "        ) - 1\n",
    "\n",
    "    # Perform a left join\n",
    "    data = pd.merge(\n",
    "        data, treasury_data, left_on='date', right_on='Date', how='left')\n",
    "\n",
    "    # Calculate Beta for individual stock.\n",
    "\n",
    "    data['CAPM return'] = 0\n",
    "    for stock_symbol in stock_symbols:\n",
    "        stock_data = data.loc[data['Name'] == stock_symbol]\n",
    "\n",
    "        # Covariance between individual stock vs. market (SP 500):\n",
    "        cov = stock_data['daily_return'].rolling(\n",
    "            63, min_periods=63).cov(\n",
    "                other=stock_data['SP 500 Returns'], pairwise=False)\n",
    "\n",
    "        # Variance of market\n",
    "        var = stock_data['SP 500 Returns'].rolling(63, min_periods=63).var()\n",
    "\n",
    "        # Beta = Covariance [Return of Asset & Return of Market] / Variance [Return of Market]\n",
    "        beta = cov / var\n",
    "\n",
    "        # CAPM Return = Rf + Beta * (Mkt Return - Rf)\n",
    "        # Rf = T bill rate\n",
    "        # Mkt Return = SP 500\n",
    "        data.loc[data['Name'] == stock_symbol,\n",
    "                 'CAPM return'] = stock_data['10 Yr T bill returns'] + beta * (\n",
    "                     stock_data['SP 500 Returns'] -\n",
    "                     stock_data['10 Yr T bill returns'])\n",
    "\n",
    "    # Finally, calculate the difference between actual daily return vs. CAPM predicted return\n",
    "    data['residuals'] = data['CAPM return'] - data['daily_return']\n",
    "    return data\n",
    "\n",
    "\n",
    "data = data_analysis()\n",
    "data.to_csv('Cleaned_Data_Analyzed.csv')"
   ]
  },
  {
   "cell_type": "code",
   "execution_count": 3,
   "metadata": {
    "ExecuteTime": {
     "end_time": "2018-12-01T22:40:58.948468Z",
     "start_time": "2018-12-01T22:40:58.835730Z"
    }
   },
   "outputs": [
    {
     "data": {
      "text/html": [
       "<div>\n",
       "<style scoped>\n",
       "    .dataframe tbody tr th:only-of-type {\n",
       "        vertical-align: middle;\n",
       "    }\n",
       "\n",
       "    .dataframe tbody tr th {\n",
       "        vertical-align: top;\n",
       "    }\n",
       "\n",
       "    .dataframe thead th {\n",
       "        text-align: right;\n",
       "    }\n",
       "</style>\n",
       "<table border=\"1\" class=\"dataframe\">\n",
       "  <thead>\n",
       "    <tr style=\"text-align: right;\">\n",
       "      <th></th>\n",
       "      <th>open</th>\n",
       "      <th>high</th>\n",
       "      <th>low</th>\n",
       "      <th>close</th>\n",
       "      <th>volume</th>\n",
       "      <th>daily_return</th>\n",
       "      <th>10 Yr T bill</th>\n",
       "      <th>SP 500</th>\n",
       "      <th>10 Yr T bill returns</th>\n",
       "      <th>SP 500 Returns</th>\n",
       "      <th>CAPM return</th>\n",
       "      <th>residuals</th>\n",
       "    </tr>\n",
       "  </thead>\n",
       "  <tbody>\n",
       "    <tr>\n",
       "      <th>count</th>\n",
       "      <td>36650.000000</td>\n",
       "      <td>36650.000000</td>\n",
       "      <td>36650.000000</td>\n",
       "      <td>36650.000000</td>\n",
       "      <td>3.665000e+04</td>\n",
       "      <td>36650.000000</td>\n",
       "      <td>36358.000000</td>\n",
       "      <td>36620.000000</td>\n",
       "      <td>36358.000000</td>\n",
       "      <td>36620.000000</td>\n",
       "      <td>32705.000000</td>\n",
       "      <td>32705.000000</td>\n",
       "    </tr>\n",
       "    <tr>\n",
       "      <th>mean</th>\n",
       "      <td>90.166095</td>\n",
       "      <td>90.821149</td>\n",
       "      <td>89.518600</td>\n",
       "      <td>90.194471</td>\n",
       "      <td>1.213429e+07</td>\n",
       "      <td>0.000322</td>\n",
       "      <td>2.254055</td>\n",
       "      <td>2063.999644</td>\n",
       "      <td>0.022541</td>\n",
       "      <td>0.000486</td>\n",
       "      <td>0.009882</td>\n",
       "      <td>0.009611</td>\n",
       "    </tr>\n",
       "    <tr>\n",
       "      <th>std</th>\n",
       "      <td>45.770272</td>\n",
       "      <td>46.100049</td>\n",
       "      <td>45.455599</td>\n",
       "      <td>45.791180</td>\n",
       "      <td>1.553995e+07</td>\n",
       "      <td>0.009704</td>\n",
       "      <td>0.350964</td>\n",
       "      <td>285.055154</td>\n",
       "      <td>0.003510</td>\n",
       "      <td>0.007595</td>\n",
       "      <td>0.007246</td>\n",
       "      <td>0.010101</td>\n",
       "    </tr>\n",
       "    <tr>\n",
       "      <th>min</th>\n",
       "      <td>20.200000</td>\n",
       "      <td>20.490000</td>\n",
       "      <td>19.980000</td>\n",
       "      <td>20.230000</td>\n",
       "      <td>3.053580e+05</td>\n",
       "      <td>-0.104010</td>\n",
       "      <td>1.370000</td>\n",
       "      <td>1487.850000</td>\n",
       "      <td>0.013700</td>\n",
       "      <td>-0.040979</td>\n",
       "      <td>-0.051616</td>\n",
       "      <td>-0.068918</td>\n",
       "    </tr>\n",
       "    <tr>\n",
       "      <th>25%</th>\n",
       "      <td>55.000000</td>\n",
       "      <td>55.462500</td>\n",
       "      <td>54.522500</td>\n",
       "      <td>55.002500</td>\n",
       "      <td>4.033024e+06</td>\n",
       "      <td>-0.004905</td>\n",
       "      <td>2.000000</td>\n",
       "      <td>1877.170000</td>\n",
       "      <td>0.020000</td>\n",
       "      <td>-0.002859</td>\n",
       "      <td>0.005766</td>\n",
       "      <td>0.003643</td>\n",
       "    </tr>\n",
       "    <tr>\n",
       "      <th>50%</th>\n",
       "      <td>83.820000</td>\n",
       "      <td>84.390000</td>\n",
       "      <td>83.210000</td>\n",
       "      <td>83.855000</td>\n",
       "      <td>7.068024e+06</td>\n",
       "      <td>0.000378</td>\n",
       "      <td>2.280000</td>\n",
       "      <td>2061.020000</td>\n",
       "      <td>0.022800</td>\n",
       "      <td>0.000538</td>\n",
       "      <td>0.010643</td>\n",
       "      <td>0.009897</td>\n",
       "    </tr>\n",
       "    <tr>\n",
       "      <th>75%</th>\n",
       "      <td>114.237500</td>\n",
       "      <td>115.030000</td>\n",
       "      <td>113.410000</td>\n",
       "      <td>114.260000</td>\n",
       "      <td>1.404172e+07</td>\n",
       "      <td>0.005653</td>\n",
       "      <td>2.520000</td>\n",
       "      <td>2185.790000</td>\n",
       "      <td>0.025200</td>\n",
       "      <td>0.004607</td>\n",
       "      <td>0.014863</td>\n",
       "      <td>0.015911</td>\n",
       "    </tr>\n",
       "    <tr>\n",
       "      <th>max</th>\n",
       "      <td>360.500000</td>\n",
       "      <td>361.450000</td>\n",
       "      <td>352.040000</td>\n",
       "      <td>356.940000</td>\n",
       "      <td>6.182376e+08</td>\n",
       "      <td>0.083386</td>\n",
       "      <td>3.040000</td>\n",
       "      <td>2872.870000</td>\n",
       "      <td>0.030400</td>\n",
       "      <td>0.039034</td>\n",
       "      <td>0.032779</td>\n",
       "      <td>0.115211</td>\n",
       "    </tr>\n",
       "  </tbody>\n",
       "</table>\n",
       "</div>"
      ],
      "text/plain": [
       "               open          high           low         close        volume  \\\n",
       "count  36650.000000  36650.000000  36650.000000  36650.000000  3.665000e+04   \n",
       "mean      90.166095     90.821149     89.518600     90.194471  1.213429e+07   \n",
       "std       45.770272     46.100049     45.455599     45.791180  1.553995e+07   \n",
       "min       20.200000     20.490000     19.980000     20.230000  3.053580e+05   \n",
       "25%       55.000000     55.462500     54.522500     55.002500  4.033024e+06   \n",
       "50%       83.820000     84.390000     83.210000     83.855000  7.068024e+06   \n",
       "75%      114.237500    115.030000    113.410000    114.260000  1.404172e+07   \n",
       "max      360.500000    361.450000    352.040000    356.940000  6.182376e+08   \n",
       "\n",
       "       daily_return  10 Yr T bill       SP 500   10 Yr T bill returns  \\\n",
       "count  36650.000000  36358.000000  36620.000000          36358.000000   \n",
       "mean       0.000322      2.254055   2063.999644              0.022541   \n",
       "std        0.009704      0.350964    285.055154              0.003510   \n",
       "min       -0.104010      1.370000   1487.850000              0.013700   \n",
       "25%       -0.004905      2.000000   1877.170000              0.020000   \n",
       "50%        0.000378      2.280000   2061.020000              0.022800   \n",
       "75%        0.005653      2.520000   2185.790000              0.025200   \n",
       "max        0.083386      3.040000   2872.870000              0.030400   \n",
       "\n",
       "       SP 500 Returns   CAPM return     residuals  \n",
       "count    36620.000000  32705.000000  32705.000000  \n",
       "mean         0.000486      0.009882      0.009611  \n",
       "std          0.007595      0.007246      0.010101  \n",
       "min         -0.040979     -0.051616     -0.068918  \n",
       "25%         -0.002859      0.005766      0.003643  \n",
       "50%          0.000538      0.010643      0.009897  \n",
       "75%          0.004607      0.014863      0.015911  \n",
       "max          0.039034      0.032779      0.115211  "
      ]
     },
     "execution_count": 3,
     "metadata": {},
     "output_type": "execute_result"
    }
   ],
   "source": [
    "data.describe()"
   ]
  },
  {
   "cell_type": "code",
   "execution_count": null,
   "metadata": {},
   "outputs": [],
   "source": []
  },
  {
   "cell_type": "code",
   "execution_count": null,
   "metadata": {},
   "outputs": [],
   "source": []
  },
  {
   "cell_type": "code",
   "execution_count": null,
   "metadata": {},
   "outputs": [],
   "source": []
  },
  {
   "cell_type": "code",
   "execution_count": 4,
   "metadata": {
    "ExecuteTime": {
     "end_time": "2018-12-01T23:55:58.718076Z",
     "start_time": "2018-12-01T23:55:58.712468Z"
    }
   },
   "outputs": [],
   "source": [
    "dji_stock = {\n",
    "    'MMM', 'AXP', 'AAPL', 'BA', 'CAT', 'CVX', 'CSCO', 'KO', 'DWDP', 'XOM',\n",
    "    'GS', 'HD', 'IBM', 'INTC', 'JNJ', 'JPM', 'MCD', 'MRK', 'MSFT', 'NKE',\n",
    "    'PFE', 'PG', 'TRV', 'UNH', 'UTX', 'VZ', 'V', 'WMT', 'WBA', 'DIS'\n",
    "}"
   ]
  },
  {
   "cell_type": "code",
   "execution_count": 8,
   "metadata": {
    "ExecuteTime": {
     "end_time": "2018-12-01T23:57:33.456415Z",
     "start_time": "2018-12-01T23:57:32.594807Z"
    }
   },
   "outputs": [],
   "source": [
    "data = pd.read_csv('Clean_Data_Out.csv')\n",
    "data = data.loc[data['Name'].isin(dji_stock)]\n",
    "data['daily_return'] = np.log(data['close'] / data['open'])"
   ]
  },
  {
   "cell_type": "code",
   "execution_count": 12,
   "metadata": {
    "ExecuteTime": {
     "end_time": "2018-12-01T23:58:36.352033Z",
     "start_time": "2018-12-01T23:58:36.329221Z"
    }
   },
   "outputs": [],
   "source": [
    "rets = data.set_index(['date', 'Name']).daily_return.unstack()"
   ]
  },
  {
   "cell_type": "code",
   "execution_count": 60,
   "metadata": {
    "ExecuteTime": {
     "end_time": "2018-12-02T00:17:30.370968Z",
     "start_time": "2018-12-02T00:17:30.360131Z"
    }
   },
   "outputs": [],
   "source": [
    "mus = rets.mean()\n",
    "covs = rets.cov()"
   ]
  },
  {
   "cell_type": "code",
   "execution_count": 29,
   "metadata": {
    "ExecuteTime": {
     "end_time": "2018-12-02T00:07:00.867876Z",
     "start_time": "2018-12-02T00:07:00.834995Z"
    }
   },
   "outputs": [],
   "source": [
    "%matplotlib inline\n",
    "import numpy as np\n",
    "import matplotlib.pyplot as plt\n",
    "import cvxopt as opt\n",
    "from cvxopt import blas, solvers\n",
    "import pandas as pd"
   ]
  },
  {
   "cell_type": "code",
   "execution_count": 48,
   "metadata": {
    "ExecuteTime": {
     "end_time": "2018-12-02T00:13:09.884878Z",
     "start_time": "2018-12-02T00:13:09.880481Z"
    }
   },
   "outputs": [],
   "source": [
    "# Turn off progress printing\n",
    "solvers.options['show_progress'] = False"
   ]
  },
  {
   "cell_type": "code",
   "execution_count": 111,
   "metadata": {
    "ExecuteTime": {
     "end_time": "2018-12-02T00:29:23.161055Z",
     "start_time": "2018-12-02T00:29:23.156339Z"
    }
   },
   "outputs": [],
   "source": [
    "def rand_weights(n):\n",
    "    ''' Produces n random weights that sum to 1 '''\n",
    "    k = np.random.randn(n)\n",
    "    return k / sum(k)"
   ]
  },
  {
   "cell_type": "code",
   "execution_count": 120,
   "metadata": {
    "ExecuteTime": {
     "end_time": "2018-12-02T00:30:17.190386Z",
     "start_time": "2018-12-02T00:30:17.183412Z"
    }
   },
   "outputs": [],
   "source": [
    "def random_portfolio(mus, covs):\n",
    "    ''' \n",
    "    Returns the mean and standard deviation of returns for a random portfolio\n",
    "    '''\n",
    "\n",
    "    p = np.asmatrix(mus)\n",
    "    w = np.asmatrix(rand_weights(mus.shape[0]))\n",
    "    C = np.asmatrix(covs)\n",
    "\n",
    "    mu = w * p.T\n",
    "    sigma = np.sqrt(w * C * w.T)\n",
    "\n",
    "    # This recursion reduces outliers to keep plots pretty\n",
    "    if sigma > 0.01:\n",
    "        return random_portfolio(mus, covs)\n",
    "    return mu, sigma"
   ]
  },
  {
   "cell_type": "code",
   "execution_count": 124,
   "metadata": {
    "ExecuteTime": {
     "end_time": "2018-12-02T00:30:35.388399Z",
     "start_time": "2018-12-02T00:30:35.240540Z"
    }
   },
   "outputs": [],
   "source": [
    "n_portfolios = 500\n",
    "means, stds = np.column_stack([random_portfolio(mus, covs) for _ in range(n_portfolios)])"
   ]
  },
  {
   "cell_type": "code",
   "execution_count": 125,
   "metadata": {
    "ExecuteTime": {
     "end_time": "2018-12-02T00:30:35.556130Z",
     "start_time": "2018-12-02T00:30:35.391152Z"
    }
   },
   "outputs": [
    {
     "data": {
      "text/plain": [
       "Text(0.5,1,'Mean and standard deviation of returns of randomly generated portfolios')"
      ]
     },
     "execution_count": 125,
     "metadata": {},
     "output_type": "execute_result"
    },
    {
     "data": {
      "image/png": "[encoded data removed]",
      "text/plain": [
       "<Figure size 432x288 with 1 Axes>"
      ]
     },
     "metadata": {},
     "output_type": "display_data"
    }
   ],
   "source": [
    "plt.plot(stds, means, 'o', markersize=3)\n",
    "plt.xlabel('std')\n",
    "plt.ylabel('mean')\n",
    "plt.title(\n",
    "    'Mean and standard deviation of returns of randomly generated portfolios')"
   ]
  },
  {
   "cell_type": "code",
   "execution_count": 94,
   "metadata": {
    "ExecuteTime": {
     "end_time": "2018-12-02T00:24:24.892821Z",
     "start_time": "2018-12-02T00:24:24.884508Z"
    }
   },
   "outputs": [],
   "source": [
    "def optimal_portfolio(means, covs):\n",
    "    n = means.shape[0]\n",
    "\n",
    "    N = 1000\n",
    "    mus = [10**(5.0 * t / N -1) for t in range(N)]\n",
    "\n",
    "    # Convert to cvxopt matrices\n",
    "    S = opt.matrix(np.array(covs))\n",
    "    pbar = opt.matrix(np.array(means))\n",
    "\n",
    "    # Create constraint matrices\n",
    "    G = -opt.matrix(np.eye(n))  # negative n x n identity matrix\n",
    "    h = opt.matrix(0.0, (n, 1))\n",
    "    A = opt.matrix(1.0, (1, n))\n",
    "    b = opt.matrix(1.0)\n",
    "\n",
    "    # Calculate efficient frontier weights using quadratic programming\n",
    "    portfolios = [solvers.qp(mu * S, -pbar, G, h, A, b)['x'] for mu in mus]\n",
    "    ## CALCULATE RISKS AND RETURNS FOR FRONTIER\n",
    "    returns = [blas.dot(pbar, x) for x in portfolios]\n",
    "    risks = [np.sqrt(blas.dot(x, S * x)) for x in portfolios]\n",
    "    ## CALCULATE THE 2ND DEGREE POLYNOMIAL OF THE FRONTIER CURVE\n",
    "    m1 = np.polyfit(returns, risks, 2)\n",
    "    x1 = np.sqrt(m1[2] / m1[0])\n",
    "    # CALCULATE THE OPTIMAL PORTFOLIO\n",
    "    wt = solvers.qp(opt.matrix(x1 * S), -pbar, G, h, A, b)['x']\n",
    "    return np.asarray(wt), returns, risks"
   ]
  },
  {
   "cell_type": "code",
   "execution_count": 126,
   "metadata": {
    "ExecuteTime": {
     "end_time": "2018-12-02T00:30:41.393462Z",
     "start_time": "2018-12-02T00:30:39.540446Z"
    }
   },
   "outputs": [
    {
     "data": {
      "text/plain": [
       "[<matplotlib.lines.Line2D at 0x12568a048>]"
      ]
     },
     "execution_count": 126,
     "metadata": {},
     "output_type": "execute_result"
    },
    {
     "data": {
      "image/png": "[encoded data removed]",
      "text/plain": [
       "<Figure size 432x288 with 1 Axes>"
      ]
     },
     "metadata": {},
     "output_type": "display_data"
    }
   ],
   "source": [
    "weights, returns, risks = optimal_portfolio(mus, covs)\n",
    "\n",
    "plt.plot(stds, means, 'o')\n",
    "plt.ylabel('mean')\n",
    "plt.xlabel('std')\n",
    "plt.plot(risks, returns, 'y-o')"
   ]
  },
  {
   "cell_type": "code",
   "execution_count": null,
   "metadata": {},
   "outputs": [],
   "source": []
  }
 ],
 "metadata": {
  "kernelspec": {
   "display_name": "Python 3",
   "language": "python",
   "name": "python3"
  },
  "language_info": {
   "codemirror_mode": {
    "name": "ipython",
    "version": 3
   },
   "file_extension": ".py",
   "mimetype": "text/x-python",
   "name": "python",
   "nbconvert_exporter": "python",
   "pygments_lexer": "ipython3",
   "version": "3.6.5"
  }
 },
 "nbformat": 4,
 "nbformat_minor": 2
}
