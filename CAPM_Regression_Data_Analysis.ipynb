{
 "cells": [
  {
   "cell_type": "code",
   "execution_count": 1,
   "metadata": {},
   "outputs": [
    {
     "data": {
      "text/plain": [
       "'This Program Uses Stock Data and Regression Methods to Verify CAPM Model'"
      ]
     },
     "execution_count": 1,
     "metadata": {},
     "output_type": "execute_result"
    }
   ],
   "source": [
    "\"\"\"This Program Uses Stock Data and Regression Methods to Verify CAPM Model\"\"\""
   ]
  },
  {
   "cell_type": "code",
   "execution_count": null,
   "metadata": {},
   "outputs": [],
   "source": [
    "import pandas as pd\n",
    "import numpy as np\n",
    "\n",
    "def data_analysis():\n",
    "    stock_symbols = {'NOV', 'PDCO'}  # <- can input as many stock stickers as needed \n",
    "    data = pd.read_csv('Clean_Data_Out.csv')\n",
    "    \n",
    "    # Filter to select only 5 stocks\n",
    "    data = data.loc[data['Name'].isin(stock_symbols)]\n",
    "    \n",
    "    # Convert Date column from string to datetime\n",
    "    data['date'] = pd.to_datetime(data['date'], format='%Y-%m-%d')\n",
    "    \n",
    "    # Add column for daily returns\n",
    "    data['daily_return'] = np.log(data['close'] / data['open'])\n",
    "    \n",
    "    \n",
    "    treasury_data = pd.read_csv('Treasury Bill Yield Curve.csv')\n",
    "    \n",
    "    # T-bill not available for certain dates (dates are not consecutive). \n",
    "    # Use linear interpolation to proxy for the t-bill rate for that date.\n",
    "    for i, row in treasury_data.iterrows():\n",
    "        if row['10 Yr T bill'] == 'NA':\n",
    "            # Assuming that isnull does not occur when i == 0 and when i == len(treasury_data) - 1\n",
    "            treasury_data['10 Yr T bill'][i] = 0.5 * (\n",
    "                treasury_data['10 Yr T bill'][i - 1] +\n",
    "                treasury_data['10 Yr T bill'][i + 1]\n",
    "            )\n",
    "    \n",
    "    # Convert Date column from string to datetime\n",
    "    treasury_data['Date'] = pd.to_datetime(treasury_data['Date'], format='%m/%d/%Y')\n",
    "    \n",
    "    # Reformat 10 Yr T bill return into decimals (original data was in %)\n",
    "    treasury_data['10 Yr T bill returns'] = treasury_data['10 Yr T bill'] / 100\n",
    "    \n",
    "    \n",
    "    # Calculate SP 500 returns\n",
    "    treasury_data['SP 500 Returns'] = treasury_data['SP 500 '] / treasury_data['SP 500 '].shift() - 1\n",
    "    \n",
    "    # Perform a left join\n",
    "    data = pd.merge(data, treasury_data, left_on='date', right_on='Date', how='left')\n",
    "    \n",
    "        \n",
    "    # Calculate Beta for individual stock. \n",
    "    \n",
    "    data['CAPM return'] = 0\n",
    "    for stock_symbol in stock_symbols:\n",
    "        stock_data = data.loc[data['Name'] == stock_symbol]\n",
    "        \n",
    "        # Covariance between individual stock vs. market (SP 500):\n",
    "        cov = np.mean(\n",
    "            stock_data['daily_return'] - np.mean(stock_data['daily_return']) *\n",
    "            stock_data['SP 500 Returns'] - np.mean(stock_data['SP 500 Returns'])\n",
    "        )\n",
    "        \n",
    "        # Variance of market\n",
    "        var = np.var(stock_data['SP 500 Returns'])\n",
    "        \n",
    "        # Beta = Covariance [Return of Asset & Return of Market] / Variance [Return of Market]\n",
    "        beta = cov / var\n",
    "        \n",
    "        \n",
    "        # CAPM Return = Rf + Beta * (Mkt Return - Rf)\n",
    "        # Rf = T bill rate\n",
    "        # Mkt Return = SP 500\n",
    "        data.loc[data['Name'] == stock_symbol, 'CAPM return'] = stock_data['10 Yr T bill returns'] + beta * (stock_data['SP 500 Returns'] - stock_data['10 Yr T bill returns'])\n",
    "    \n",
    "    # Finally, calculate the difference between actual daily return vs. CAPM predicted return\n",
    "    data['residuals'] = data['CAPM return'] - data['daily_return']\n",
    "    return data\n",
    "\n",
    "data = data_analysis()\n",
    "data.to_csv('Cleaned_Data_Analyzed.csv')"
   ]
  }
 ],
 "metadata": {
  "kernelspec": {
   "display_name": "Python 3",
   "language": "python",
   "name": "python3"
  },
  "language_info": {
   "codemirror_mode": {
    "name": "ipython",
    "version": 3
   },
   "file_extension": ".py",
   "mimetype": "text/x-python",
   "name": "python",
   "nbconvert_exporter": "python",
   "pygments_lexer": "ipython3",
   "version": "3.7.0"
  }
 },
 "nbformat": 4,
 "nbformat_minor": 2
}
