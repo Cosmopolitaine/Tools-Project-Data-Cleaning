{
 "cells": [
  {
   "cell_type": "code",
   "execution_count": 150,
   "metadata": {},
   "outputs": [],
   "source": [
    "\"\"\"Docstring\"\"\"\n",
    "\n",
    "import csv\n",
    "import collections\n",
    "import re\n",
    "\n",
    "#Read Data\n",
    "def readdata():\n",
    "    # This function reads data from the original dataset\n",
    "    with open('all_stocks_5yr.csv') as fp:\n",
    "        reader = csv.reader(fp)\n",
    "        data = list(reader)\n",
    "    return data\n",
    "\n",
    "def assetlist():\n",
    "    # This function returns a set of tickers of S&P500 stocks\n",
    "    n = readdata()\n",
    "    k = [ i[6] for i in n]\n",
    "    return set(k)\n",
    "\n",
    "assetlist = assetlist() # A list of all stocks in the dataset for future reference\n",
    "dataset = readdata() # The original dataset for future reference\n",
    "data = dataset[1:] # The original dataset without header for future reference\n",
    "\n",
    "#Format Data\n",
    "def cleanrow(row):\n",
    "    namepattern = r'[A-Z]*' # To check that all tickers contains only capital letters\n",
    "    datepattern = r'(\\d{4})-(\\d{2})-(\\d{2})*' # To check that the dates are in the YYYY-MM-DD format\n",
    "    matchname = re.search(namepattern, row[6])\n",
    "    matchdate = re.search(datepattern, row[0])\n",
    "    \n",
    "    new_row = [0, 0, 0, 0, 0, 0, 0]\n",
    "    new_row[0] = row[0] if bool(matchdate) == True else None \n",
    "    new_row[1] = round(float(row[1]),2) if row[1] else None\n",
    "    new_row[2] = round(float(row[2]),2) if row[2] else None\n",
    "    new_row[3] = round(float(row[3]),2) if row[3] else None\n",
    "    new_row[4] = round(float(row[4]),2) if row[4] else None\n",
    "    new_row[5] = int(row[5]) if row[5].isdigit() else None\n",
    "    new_row[6] = row[6] if bool(matchname) == True else None\n",
    "    # format the original data, also check for missing data and some cases of wrong data\n",
    "    # missing and wrong data are replaced by None so we could deal with them more efficiently\n",
    "    # in the future\n",
    "    \n",
    "    return new_row\n",
    "\n",
    "def cleandata(data):\n",
    "    newdata = data\n",
    "    for i in range(len(data)):\n",
    "        newdata[i] = cleanrow(data[i])\n",
    "    return newdata\n",
    "\n",
    "cleandata = [dataset[0]] + cleandata(data) # Cleaned data with header\n",
    "\n",
    "#Find possible wrong value\n",
    "\n",
    "\n",
    "#Find missing value\n",
    "#Replace wrong value\n",
    "#Deal with missing value"
   ]
  },
  {
   "cell_type": "code",
   "execution_count": 153,
   "metadata": {},
   "outputs": [],
   "source": [
    "class Equity:\n",
    "    def __init__(self, name):\n",
    "        self.name = name\n",
    "        self.history = [dataset[0]]+[i for i in cleandata if i[6] == name]\n",
    "    \n",
    "    def RoR(self, day1, day2):\n",
    "        s = [i[4] for i in self.history if i[0] == day1][0]\n",
    "        St = [i[4] for i in self.history if i[0] == day2][0]\n",
    "        return (St/s)-1"
   ]
  },
  {
   "cell_type": "code",
   "execution_count": 154,
   "metadata": {},
   "outputs": [
    {
     "data": {
      "text/plain": [
       "0.0028544243577546258"
      ]
     },
     "execution_count": 154,
     "metadata": {},
     "output_type": "execute_result"
    }
   ],
   "source": [
    "ASS = Equity('AAPL')\n",
    "ASS.RoR('2013-02-28','2013-03-28')"
   ]
  },
  {
   "cell_type": "code",
   "execution_count": null,
   "metadata": {},
   "outputs": [],
   "source": []
  }
 ],
 "metadata": {
  "kernelspec": {
   "display_name": "Python 3",
   "language": "python",
   "name": "python3"
  },
  "language_info": {
   "codemirror_mode": {
    "name": "ipython",
    "version": 3
   },
   "file_extension": ".py",
   "mimetype": "text/x-python",
   "name": "python",
   "nbconvert_exporter": "python",
   "pygments_lexer": "ipython3",
   "version": "3.6.5"
  }
 },
 "nbformat": 4,
 "nbformat_minor": 2
}
