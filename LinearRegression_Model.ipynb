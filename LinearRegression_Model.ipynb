{
 "cells": [
  {
   "cell_type": "markdown",
   "metadata": {},
   "source": [
    "This is Stock Price prediction part of project using Linear Regression "
   ]
  },
  {
   "cell_type": "code",
   "execution_count": 68,
   "metadata": {},
   "outputs": [],
   "source": [
    "import pandas as pd\n",
    "import numpy as np"
   ]
  },
  {
   "cell_type": "markdown",
   "metadata": {},
   "source": [
    "1. Select and preprocess stock data"
   ]
  },
  {
   "cell_type": "code",
   "execution_count": 40,
   "metadata": {},
   "outputs": [
    {
     "data": {
      "text/plain": [
       "'AAL'"
      ]
     },
     "execution_count": 40,
     "metadata": {},
     "output_type": "execute_result"
    }
   ],
   "source": [
    "data =  pd.read_csv('/Users/niweichong/Desktop/Git/Tools-Project-Data-Cleaning-master/Tools-Project-Data-Cleaning/Clean_Data_Out.csv')\n",
    "\n",
    "#select values needed and particular stock, modify the date to trading days\n",
    "def select_stock(stock_name:str):\n",
    "    data_col_chosen = data[['Name','open','close','volume',]]\n",
    "    data_stock_chosen = data_col_chosen.loc[data['Name']==stock_name]\n",
    "    data_stock_chosen.insert(1, 'trading day', [i+1 for i in range(len(data_stock_chosen['Name']))])\n",
    "    return data_stock_chosen\n",
    "\n",
    "#eg. choose 'AAL'\n",
    "data = select_stock('AAL')"
   ]
  },
  {
   "cell_type": "code",
   "execution_count": 54,
   "metadata": {},
   "outputs": [],
   "source": [
    "#output to csv file\n",
    "data.to_csv('%s_preprocessed.csv' %data.iat[0, 0],index= False)"
   ]
  },
  {
   "cell_type": "code",
   "execution_count": 95,
   "metadata": {},
   "outputs": [
    {
     "data": {
      "image/png": "[encoded data removed]",
      "text/plain": [
       "<Figure size 432x288 with 1 Axes>"
      ]
     },
     "metadata": {
      "needs_background": "light"
     },
     "output_type": "display_data"
    },
    {
     "data": {
      "text/plain": [
       "<Figure size 864x1152 with 0 Axes>"
      ]
     },
     "metadata": {},
     "output_type": "display_data"
    }
   ],
   "source": [
    "import matplotlib.pyplot as plt \n",
    "\n",
    "def plot(data):\n",
    "    \n",
    "    x=data[\"trading day\"]\n",
    "    y=data[\"close\"]\n",
    "    plt.xlabel('trading day')\n",
    "    plt.ylabel('Stock price')\n",
    "    \n",
    "    plt.plot(x, y, '-',linewidth = 0.5, color = 'green' )\n",
    "  \n",
    "    # Set title\n",
    "    plt.title(\"Trend of '%s'\" %(data.iat[0, 0]), fontsize = 20)\n",
    "    #Output a png file\n",
    "    plt.savefig('stock_trend_fig_example.png', dpi = 600)\n",
    "    \n",
    "    plt.figure(figsize=(12,16))\n",
    "    return plt.show()\n",
    "\n",
    "plot(data)"
   ]
  },
  {
   "cell_type": "code",
   "execution_count": 69,
   "metadata": {},
   "outputs": [],
   "source": [
    "import math\n",
    "from IPython.display import display\n",
    "from sklearn import linear_model\n",
    "from sklearn.model_selection import train_test_split\n",
    "from sklearn.metrics import mean_squared_error\n",
    "from sklearn.model_selection import TimeSeriesSplit\n",
    "import importlib"
   ]
  },
  {
   "cell_type": "markdown",
   "metadata": {},
   "source": [
    "2. Prepare functions for training and testing"
   ]
  },
  {
   "cell_type": "code",
   "execution_count": 82,
   "metadata": {},
   "outputs": [],
   "source": [
    "\"\"\"\n",
    "    This function rescales a numpy array from input to target range\n",
    "    x: data to scale\n",
    "    input_range: optional input range for data, default 0.0:1.0\n",
    "    target_range: optional target range for data, default 0.0:1.0\n",
    "    return: rescaled array, incoming range [min,max]\n",
    "\"\"\"\n",
    "def scale_range(x, input_range, target_range):\n",
    "\n",
    "    range = [np.amin(x), np.amax(x)]\n",
    "    x_std = (x - input_range[0]) / (1.0*(input_range[1] - input_range[0]))\n",
    "    x_scaled = x_std * (1.0*(target_range[1] - target_range[0])) + target_range[0]\n",
    "    return x_scaled, range\n",
    "\n",
    "\"\"\"\n",
    "    This function splits the data set into training and testing feature for Linear Regression Model\n",
    "    stock: whole data set containing ['Open','Close','Volume'] features\n",
    "    return: X_train : training sets of feature\n",
    "            X_test : test sets of feature\n",
    "            y_train: training sets of label\n",
    "            y_test: test sets of label\n",
    "            label_range: scaled range of label used in predicting price,\n",
    "\"\"\"\n",
    "    \n",
    "def train_test_split_linear_regression(stock):\n",
    "   \n",
    "    # Create numpy arrays for features and targets\n",
    "    feature = []\n",
    "    label = []\n",
    "\n",
    "    # Convert dataframe columns to numpy arrays for scikit learn\n",
    "    for index, row in stock.iterrows():\n",
    "        # print([np.array(row['trading day'])])\n",
    "        feature.append([(row['trading day'])])\n",
    "        label.append([(row['close'])])\n",
    "\n",
    "    # Regularize the feature and target arrays and store min/max of input data for rescaling later\n",
    "    feature_bounds = [min(feature), max(feature)]\n",
    "    feature_bounds = [feature_bounds[0][0], feature_bounds[1][0]]\n",
    "    label_bounds = [min(label), max(label)]\n",
    "    label_bounds = [label_bounds[0][0], label_bounds[1][0]]\n",
    "\n",
    "    feature_scaled, feature_range = scale_range(np.array(feature), input_range=feature_bounds, target_range=[-1.0, 1.0])\n",
    "    label_scaled, label_range = scale_range(np.array(label), input_range=label_bounds, target_range=[-1.0, 1.0])\n",
    "\n",
    "    # Define Test/Train Split 80/20\n",
    "    split = .315\n",
    "    split = int(math.floor(len(stock['trading day']) * split))\n",
    "\n",
    "    # Set up training and test sets\n",
    "    X_train = feature_scaled[:-split]\n",
    "    X_test = feature_scaled[-split:]\n",
    "\n",
    "    y_train = label_scaled[:-split]\n",
    "    y_test = label_scaled[-split:]\n",
    "\n",
    "    return X_train, X_test, y_train, y_test, label_range\n"
   ]
  },
  {
   "cell_type": "code",
   "execution_count": 83,
   "metadata": {},
   "outputs": [
    {
     "data": {
      "text/html": [
       "<div>\n",
       "<style scoped>\n",
       "    .dataframe tbody tr th:only-of-type {\n",
       "        vertical-align: middle;\n",
       "    }\n",
       "\n",
       "    .dataframe tbody tr th {\n",
       "        vertical-align: top;\n",
       "    }\n",
       "\n",
       "    .dataframe thead th {\n",
       "        text-align: right;\n",
       "    }\n",
       "</style>\n",
       "<table border=\"1\" class=\"dataframe\">\n",
       "  <thead>\n",
       "    <tr style=\"text-align: right;\">\n",
       "      <th></th>\n",
       "      <th>Name</th>\n",
       "      <th>trading day</th>\n",
       "      <th>open</th>\n",
       "      <th>close</th>\n",
       "      <th>volume</th>\n",
       "    </tr>\n",
       "  </thead>\n",
       "  <tbody>\n",
       "    <tr>\n",
       "      <th>0</th>\n",
       "      <td>AAL</td>\n",
       "      <td>1</td>\n",
       "      <td>15.07</td>\n",
       "      <td>14.75</td>\n",
       "      <td>8407500</td>\n",
       "    </tr>\n",
       "    <tr>\n",
       "      <th>1</th>\n",
       "      <td>AAL</td>\n",
       "      <td>2</td>\n",
       "      <td>14.89</td>\n",
       "      <td>14.46</td>\n",
       "      <td>8882000</td>\n",
       "    </tr>\n",
       "    <tr>\n",
       "      <th>2</th>\n",
       "      <td>AAL</td>\n",
       "      <td>3</td>\n",
       "      <td>14.45</td>\n",
       "      <td>14.27</td>\n",
       "      <td>8126000</td>\n",
       "    </tr>\n",
       "    <tr>\n",
       "      <th>3</th>\n",
       "      <td>AAL</td>\n",
       "      <td>4</td>\n",
       "      <td>14.30</td>\n",
       "      <td>14.66</td>\n",
       "      <td>10259500</td>\n",
       "    </tr>\n",
       "    <tr>\n",
       "      <th>4</th>\n",
       "      <td>AAL</td>\n",
       "      <td>5</td>\n",
       "      <td>14.94</td>\n",
       "      <td>13.99</td>\n",
       "      <td>31879900</td>\n",
       "    </tr>\n",
       "  </tbody>\n",
       "</table>\n",
       "</div>"
      ],
      "text/plain": [
       "  Name  trading day   open  close    volume\n",
       "0  AAL            1  15.07  14.75   8407500\n",
       "1  AAL            2  14.89  14.46   8882000\n",
       "2  AAL            3  14.45  14.27   8126000\n",
       "3  AAL            4  14.30  14.66  10259500\n",
       "4  AAL            5  14.94  13.99  31879900"
      ]
     },
     "metadata": {},
     "output_type": "display_data"
    }
   ],
   "source": [
    "#Load preprocessed data\n",
    "stock = pd.read_csv('AAL_preprocessed.csv')\n",
    "display(stock.head())"
   ]
  },
  {
   "cell_type": "code",
   "execution_count": 90,
   "metadata": {},
   "outputs": [
    {
     "name": "stdout",
     "output_type": "stream",
     "text": [
      "x_train (863, 1)\n",
      "y_train (863, 1)\n",
      "x_test (396, 1)\n",
      "y_test (396, 1)\n"
     ]
    },
    {
     "data": {
      "text/plain": [
       "[13.02, 58.47]"
      ]
     },
     "execution_count": 90,
     "metadata": {},
     "output_type": "execute_result"
    }
   ],
   "source": [
    "#Split data into train and test pair\n",
    "X_train, X_test, y_train, y_test, label_range= train_test_split_linear_regression(stock)\n",
    "\n",
    "print(\"x_train\", X_train.shape)\n",
    "print(\"y_train\", y_train.shape)\n",
    "print(\"x_test\", X_test.shape)\n",
    "print(\"y_test\", y_test.shape)\n",
    "label_range"
   ]
  },
  {
   "cell_type": "markdown",
   "metadata": {},
   "source": [
    "3. Train a Linear regressor model on training set and get prediction"
   ]
  },
  {
   "cell_type": "code",
   "execution_count": 85,
   "metadata": {},
   "outputs": [],
   "source": [
    "\"\"\"\n",
    "    This function builds a linear regression model using sklearn.linear_model\n",
    "    X: Feature dataset\n",
    "    y: label dataset\n",
    "    return: a linear regression model\n",
    "    \"\"\"\n",
    "def build_model(X, y):\n",
    "    \n",
    "    linear_mod = linear_model.LinearRegression()  # defining the linear regression model\n",
    "    X = np.reshape(X, (X.shape[0], 1))\n",
    "    y = np.reshape(y, (y.shape[0], 1))\n",
    "    linear_mod.fit(X, y)  # fitting the data points in the model\n",
    "\n",
    "    return linear_mod"
   ]
  },
  {
   "cell_type": "code",
   "execution_count": 86,
   "metadata": {},
   "outputs": [],
   "source": [
    "model = build_model(X_train,y_train)"
   ]
  },
  {
   "cell_type": "markdown",
   "metadata": {},
   "source": [
    "4. Get prediction on test set"
   ]
  },
  {
   "cell_type": "code",
   "execution_count": 87,
   "metadata": {},
   "outputs": [],
   "source": [
    "\"\"\"\n",
    "    This function predicts the label for given test sets\n",
    "    model: a linear regression model\n",
    "    x: testing features\n",
    "    label_range: normalised range of label data\n",
    "    return: predicted labels for given features\n",
    "    \"\"\"\n",
    "def predict_prices(model, x, label_range):\n",
    "    \n",
    "    x = np.reshape(x, (x.shape[0], 1))\n",
    "    predicted_price = model.predict(x)\n",
    "    predictions_rescaled, re_range = scale_range(predicted_price, input_range=[-1.0, 1.0], target_range=label_range)\n",
    "\n",
    "    return predictions_rescaled.flatten()\n",
    "\n",
    "prediction = predict_prices(model,X_test, label_range)"
   ]
  },
  {
   "cell_type": "markdown",
   "metadata": {},
   "source": [
    "5. Plot the predicted values against actual"
   ]
  },
  {
   "cell_type": "code",
   "execution_count": 94,
   "metadata": {},
   "outputs": [
    {
     "data": {
      "image/png": "[encoded data removed]",
      "text/plain": [
       "<Figure size 432x288 with 1 Axes>"
      ]
     },
     "metadata": {
      "needs_background": "light"
     },
     "output_type": "display_data"
    }
   ],
   "source": [
    "\"\"\"\n",
    "    This function plots train, test and prediction\n",
    "    actual: DataFrame containing actual data\n",
    "    prediction: DataFrame containing predicted values\n",
    "    title:  Title of the plot\n",
    "    y_label: yLabel of the plot\n",
    "    x_label: xLabel of the plot\n",
    "    return: prints a Pyplot against trading days and their close price value\n",
    "    \"\"\"\n",
    "def plot_prediction(actual, prediction, title='Google Trading vs Prediction', y_label='Price USD', x_label='Trading Days'):\n",
    "    \n",
    "    fig = plt.figure()\n",
    "    ax = fig.add_subplot(111)\n",
    "\n",
    "    plt.ylabel(y_label)\n",
    "    plt.xlabel(x_label)\n",
    "\n",
    "    # Plot actual and predicted close values\n",
    "    plt.plot(actual, 'green', label='Adjusted Close')\n",
    "    plt.plot(prediction, 'blue', label='Predicted Close')\n",
    "\n",
    "    # Set title\n",
    "    ax.set_title(title)\n",
    "    ax.legend(loc='upper left')\n",
    "\n",
    "    plt.show()\n",
    "\n",
    "plot_prediction(y_test,prediction)\n",
    "\n",
    "\n",
    "# plt.plot(y_test,lw=0.5,label=\"Adjusted actual close\",color='green')\n",
    "# plt.plot(prediction,lw=1,label=\"Predicted close\",color='blue')\n",
    "# plt.plot(y_test,'-')\n",
    "# plt.title(\"Linear Regression Prediction\",size=20)\n",
    "# plt.xlabel('trading day',size=12)\n",
    "# plt.ylabel('Stock Price',size=12)\n",
    "# ax.legend(loc='upper left')\n"
   ]
  },
  {
   "cell_type": "code",
   "execution_count": null,
   "metadata": {},
   "outputs": [],
   "source": []
  }
 ],
 "metadata": {
  "kernelspec": {
   "display_name": "Python 3",
   "language": "python",
   "name": "python3"
  },
  "language_info": {
   "codemirror_mode": {
    "name": "ipython",
    "version": 3
   },
   "file_extension": ".py",
   "mimetype": "text/x-python",
   "name": "python",
   "nbconvert_exporter": "python",
   "pygments_lexer": "ipython3",
   "version": "3.7.0"
  }
 },
 "nbformat": 4,
 "nbformat_minor": 2
}
